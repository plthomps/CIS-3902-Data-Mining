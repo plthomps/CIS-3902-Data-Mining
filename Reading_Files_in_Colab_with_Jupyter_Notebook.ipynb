{
  "nbformat": 4,
  "nbformat_minor": 0,
  "metadata": {
    "colab": {
      "provenance": [],
      "authorship_tag": "ABX9TyMI9D65yHw0/V8XQNKB5y31",
      "include_colab_link": true
    },
    "kernelspec": {
      "name": "python3",
      "display_name": "Python 3"
    },
    "language_info": {
      "name": "python"
    }
  },
  "cells": [
    {
      "cell_type": "markdown",
      "metadata": {
        "id": "view-in-github",
        "colab_type": "text"
      },
      "source": [
        "<a href=\"https://colab.research.google.com/github/plthomps/CIS-3902-Data-Mining/blob/main/Reading_Files_in_Colab_with_Jupyter_Notebook.ipynb\" target=\"_parent\"><img src=\"https://colab.research.google.com/assets/colab-badge.svg\" alt=\"Open In Colab\"/></a>"
      ]
    },
    {
      "cell_type": "markdown",
      "source": [
        "# File Input for Various Types of Files in Jupyter Notebook (Colab)"
      ],
      "metadata": {
        "id": "EJIPxvoFHDJI"
      }
    },
    {
      "cell_type": "markdown",
      "source": [
        "##1. Import Pandas and Google Drive, Files"
      ],
      "metadata": {
        "id": "mGyzGUgDHMar"
      }
    },
    {
      "cell_type": "code",
      "execution_count": 1,
      "metadata": {
        "id": "Mv4u7cSqGuKW"
      },
      "outputs": [],
      "source": [
        "import pandas as pd\n",
        "from google.colab import drive, files"
      ]
    },
    {
      "cell_type": "markdown",
      "source": [
        "##1. Reading a CSV file using Pandas from a URL which displays the file\n",
        "<p>This particular file has the .data extension and does not have column headers, requiring the headers to be defined.</p>"
      ],
      "metadata": {
        "id": "p1p5BqYKJkU_"
      }
    },
    {
      "cell_type": "code",
      "source": [
        "# 1. Reading a CSV file using Pandas from a URL\n",
        "csv_url = 'https://archive.ics.uci.edu/ml/machine-learning-databases/housing/housing.data'\n",
        "# Define column names for the dataset\n",
        "columns = ['CRIM', 'ZN', 'INDUS', 'CHAS', 'NOX', 'RM', 'AGE', 'DIS', 'RAD', 'TAX', 'PTRATIO', 'B', 'LSTAT', 'MEDV']\n",
        "# Read the dataset with the column names\n",
        "df_boston = pd.read_csv(csv_url, sep='\\s+', header=None, names=columns) #sep='\\s+' is the new command that replaces delim_whitespace=true\n",
        "# and the command tells Pandas to use one or more whitespace characters as a delimiter\n",
        "# Show the first few rows\n",
        "print(df_boston.head())"
      ],
      "metadata": {
        "colab": {
          "base_uri": "https://localhost:8080/"
        },
        "id": "RIqAbFAUG5WH",
        "outputId": "4b70f7e2-26a2-47d5-d96f-e369b156269f"
      },
      "execution_count": 7,
      "outputs": [
        {
          "output_type": "stream",
          "name": "stdout",
          "text": [
            "      CRIM    ZN  INDUS  CHAS    NOX     RM   AGE     DIS  RAD    TAX  \\\n",
            "0  0.00632  18.0   2.31     0  0.538  6.575  65.2  4.0900    1  296.0   \n",
            "1  0.02731   0.0   7.07     0  0.469  6.421  78.9  4.9671    2  242.0   \n",
            "2  0.02729   0.0   7.07     0  0.469  7.185  61.1  4.9671    2  242.0   \n",
            "3  0.03237   0.0   2.18     0  0.458  6.998  45.8  6.0622    3  222.0   \n",
            "4  0.06905   0.0   2.18     0  0.458  7.147  54.2  6.0622    3  222.0   \n",
            "\n",
            "   PTRATIO       B  LSTAT  MEDV  \n",
            "0     15.3  396.90   4.98  24.0  \n",
            "1     17.8  396.90   9.14  21.6  \n",
            "2     17.8  392.83   4.03  34.7  \n",
            "3     18.7  394.63   2.94  33.4  \n",
            "4     18.7  396.90   5.33  36.2  \n"
          ]
        }
      ]
    },
    {
      "cell_type": "markdown",
      "source": [
        "##2.  Open a CSV file from Github\n",
        "<p>First, in Github, open a csv file that has been uploaded and select \"raw\" to view the file as text. Then, copy the URL and paste the URL in the appropriate place in the second line of code.</p>"
      ],
      "metadata": {
        "id": "LyFKNM3KHdyr"
      }
    },
    {
      "cell_type": "code",
      "source": [
        "# 2. Reading raw data from a GitHub URL (ensure the URL is raw)\n",
        "raw_github_url = 'https://raw.githubusercontent.com/plthomps/CIS-3902-Data-Mining/refs/heads/main/president_polls_2016.csv'\n",
        "df_raw_url = pd.read_csv(raw_github_url)\n",
        "print(\"\\nRaw data from GitHub URL:\")\n",
        "print(df_raw_url.head())"
      ],
      "metadata": {
        "colab": {
          "base_uri": "https://localhost:8080/"
        },
        "id": "vh9Nv5LwG72i",
        "outputId": "e2995d32-a29a-43c5-ba1d-75c6526fa286"
      },
      "execution_count": 8,
      "outputs": [
        {
          "output_type": "stream",
          "name": "stdout",
          "text": [
            "\n",
            "Raw data from GitHub URL:\n",
            "   cycle     branch        type                        matchup forecastdate  \\\n",
            "0   2016  President  polls-plus  Clinton vs. Trump vs. Johnson      11/8/16   \n",
            "1   2016  President  polls-plus  Clinton vs. Trump vs. Johnson      11/8/16   \n",
            "2   2016  President  polls-plus  Clinton vs. Trump vs. Johnson      11/8/16   \n",
            "3   2016  President  polls-plus  Clinton vs. Trump vs. Johnson      11/8/16   \n",
            "4   2016  President  polls-plus  Clinton vs. Trump vs. Johnson      11/8/16   \n",
            "\n",
            "  state  startdate    enddate                  pollster grade  ...  \\\n",
            "0  U.S.  11/3/2016  11/6/2016  ABC News/Washington Post    A+  ...   \n",
            "1  U.S.  11/1/2016  11/7/2016   Google Consumer Surveys     B  ...   \n",
            "2  U.S.  11/2/2016  11/6/2016                     Ipsos    A-  ...   \n",
            "3  U.S.  11/4/2016  11/7/2016                    YouGov     B  ...   \n",
            "4  U.S.  11/3/2016  11/6/2016          Gravis Marketing    B-  ...   \n",
            "\n",
            "   adjpoll_clinton adjpoll_trump  adjpoll_johnson  adjpoll_mcmullin  \\\n",
            "0         45.20163      41.72430         4.626221               NaN   \n",
            "1         43.34557      41.21439         5.175792               NaN   \n",
            "2         42.02638      38.81620         6.844734               NaN   \n",
            "3         45.65676      40.92004         6.069454               NaN   \n",
            "4         46.84089      42.33184         3.726098               NaN   \n",
            "\n",
            "   multiversions                                                url  poll_id  \\\n",
            "0            NaN  https://www.washingtonpost.com/news/the-fix/wp...    48630   \n",
            "1            NaN  https://datastudio.google.com/u/0/#/org//repor...    48847   \n",
            "2            NaN  http://projects.fivethirtyeight.com/polls/2016...    48922   \n",
            "3            NaN  https://d25d2506sfb94s.cloudfront.net/cumulus_...    48687   \n",
            "4            NaN  http://www.gravispolls.com/2016/11/final-natio...    48848   \n",
            "\n",
            "   question_id  createddate             timestamp  \n",
            "0        76192      11/7/16  09:35:33  8 Nov 2016  \n",
            "1        76443      11/7/16  09:35:33  8 Nov 2016  \n",
            "2        76636      11/8/16  09:35:33  8 Nov 2016  \n",
            "3        76262      11/7/16  09:35:33  8 Nov 2016  \n",
            "4        76444      11/7/16  09:35:33  8 Nov 2016  \n",
            "\n",
            "[5 rows x 27 columns]\n"
          ]
        }
      ]
    },
    {
      "cell_type": "markdown",
      "source": [
        "##3. Read file from Google Drive\n",
        "<p>You need permission to read from the drive, generally you will have a folder or folders and separate paths that you use to read files.</p>"
      ],
      "metadata": {
        "id": "dcnw5_y1LkXW"
      }
    },
    {
      "cell_type": "code",
      "source": [
        "# 3. Reading a CSV file from Google Drive\n",
        "drive.mount('/content/drive')  # Mount Google Drive\n",
        "#\n",
        "file_path = '/content/drive/MyDrive/water_level_2016.csv'  # Update the path to your file\n",
        "df_drive = pd.read_csv(file_path)\n",
        "print(\"\\nCSV from Google Drive:\")\n",
        "print(df_drive.head())"
      ],
      "metadata": {
        "colab": {
          "base_uri": "https://localhost:8080/"
        },
        "id": "7dK1orrEG935",
        "outputId": "e2ab2377-8d21-410a-bd71-0515de5aad4a"
      },
      "execution_count": 9,
      "outputs": [
        {
          "output_type": "stream",
          "name": "stdout",
          "text": [
            "Mounted at /content/drive\n",
            "\n",
            "CSV from Google Drive:\n",
            "       Date Time (GMT)  Predicted (ft) Preliminary (ft)  Verified (ft)\n",
            "0  8/1/2016       0:00           3.333                -           3.29\n",
            "1  8/1/2016       1:00           4.741                -           4.71\n",
            "2  8/1/2016       2:00           5.765                -           5.70\n",
            "3  8/1/2016       3:00           6.098                -           6.03\n",
            "4  8/1/2016       4:00           5.630                -           5.80\n"
          ]
        }
      ]
    },
    {
      "cell_type": "markdown",
      "source": [
        "##4. Upload and read an excel file with pd.read_excel.\n",
        "<p>You first need to upload the file to your notebook session in Colab.</p>"
      ],
      "metadata": {
        "id": "hYbgBuc7PYpD"
      }
    },
    {
      "cell_type": "code",
      "source": [
        "# 4. Uploading and reading an Excel file (.xlsx)\n",
        "uploaded = files.upload()  # Prompt to upload file\n",
        "\n",
        "for filename in uploaded.keys():\n",
        "    df_excel = pd.read_excel(filename)\n",
        "    print(\"\\nExcel file uploaded:\")\n",
        "    print(df_excel.head())"
      ],
      "metadata": {
        "id": "njooebJiHAut"
      },
      "execution_count": null,
      "outputs": []
    }
  ]
}